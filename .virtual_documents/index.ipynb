


















































# Import necessary libraries
import pandas as pd
import numpy as np
import matplotlib.pyplot as plt
import seaborn as sns
import warnings
warnings.filterwarnings('ignore')


# Loading the features and target datasets
features_df = pd.read_csv('Data/seasonal_flu_training_set_features.csv', index_col='respondent_id')
target_df = pd.read_csv('Data/seasonal_flu_training_set_labels.csv', index_col='respondent_id')


# checking if the index columns are the same in order to merge
assert features_df.index.equals(target_df.index)


# Merging the features and targets on the respondent_id key
df = pd.merge(features_df, target_df, on='respondent_id')


# the shape of the merged dataframe
df.shape





# Displaying the first 5 rows to inspect the data
df.head()


# Getting a summary of the DataFrame including data types and non-null counts
df.info()





# Checking for null values
df.isna().sum().to_frame().sort_values(0,ascending = False)






# Generating descriptive statistics for numerical columns
df.describe()





# Descriptive stats for object columns
df.describe(include=['object'])


#  number of unique categories per column
df.select_dtypes(include='object').nunique().sort_values(ascending=False)














# Plot distribution of vaccine uptake
fig, axes = plt.subplots(1, 2, figsize=(12, 5))

# H1N1 Vaccine
df['h1n1_vaccine'].value_counts().plot(
    kind='bar', color=['lightblue', 'salmon'], ax=axes[0]
)
axes[0].set_title('H1N1 Vaccine Uptake')
axes[0].set_xlabel('0 = Not Vaccinated, 1 = Vaccinated')
axes[0].set_ylabel('Count')

# Seasonal Vaccine
df['seasonal_vaccine'].value_counts().plot(
    kind='bar', color=['lightblue', 'salmon'], ax=axes[1]
)
axes[1].set_title('Seasonal Flu Vaccine Uptake')
axes[1].set_xlabel('0 = Not Vaccinated, 1 = Vaccinated')
axes[1].set_ylabel('Count')

plt.tight_layout()
plt.show()

# Print percentages
print(f"H1N1 Vaccine: {df['h1n1_vaccine'].mean() * 100:.2f}% vaccinated.")
print(f"Seasonal Vaccine: {df['seasonal_vaccine'].mean() * 100:.2f}% vaccinated.")









# Set up the figure
fig, axes = plt.subplots(2, 2, figsize=(14, 10))

# 1. Opinion Feature: opinion_h1n1_vacc_effective
df['opinion_h1n1_vacc_effective'].value_counts().sort_index().plot(kind='bar', ax=axes[0,0], color='skyblue')
axes[0,0].set_title('Distribution of Opinion: H1N1 Vaccine Effectiveness')
axes[0,0].set_xlabel('Perceived Effectiveness (1=Low, 5=High)')
axes[0,0].set_ylabel('Count')

# 2. Behavioral Feature: behavioral_avoidance
df['behavioral_avoidance'].value_counts().plot(kind='bar', ax=axes[0,1], color='lightgreen')
axes[0,1].set_title('Distribution of Behavior: Avoided Crowds')
axes[0,1].set_xlabel('0 = No, 1 = Yes')
axes[0,1].set_ylabel('Count')
axes[0,1].set_xticks([0, 1])
axes[0,1].set_xticklabels(['No', 'Yes'], rotation=0)

# 3. Demographic Feature: age_group
df['age_group'].value_counts().plot(kind='bar', ax=axes[1,0], color='orange')
axes[1,0].set_title('Distribution of Age Groups')
axes[1,0].set_xlabel('Age Group')
axes[1,0].set_ylabel('Count')
axes[1,0].tick_params(axis='x', rotation=45)

# 4. Doctor Recommendation: doctor_recc_h1n1
df['doctor_recc_h1n1'].value_counts().plot(kind='bar', ax=axes[1,1], color='pink')
axes[1,1].set_title('Distribution of Doctor Recommendation (H1N1)')
axes[1,1].set_xlabel('0 = No, 1 = Yes')
axes[1,1].set_ylabel('Count')
axes[1,1].set_xticks([0, 1])
axes[1,1].set_xticklabels(['No', 'Yes'], rotation=0)

plt.tight_layout()
plt.show()














# Analyze the relationship between key features and H1N1 vaccination
fig, axes = plt.subplots(2, 2, figsize=(16, 12))

# 1. Doctor's Recommendation vs. Vaccination
pd.crosstab(df['doctor_recc_h1n1'], df['h1n1_vaccine'], normalize='index').plot(kind='bar', ax=axes[0,0], color=['salmon', 'lightblue'])
axes[0,0].set_title('H1N1 Vaccination Rate by Doctor Recommendation')
axes[0,0].set_xlabel('Doctor Recommended H1N1 Vaccine (0 = No, 1 = Yes)')
axes[0,0].set_ylabel('Proportion')
axes[0,0].legend(['Not Vaccinated', 'Vaccinated'])
axes[0,0].tick_params(axis='x', rotation=0)

# 2. Opinion on Effectiveness vs. Vaccination
pd.crosstab(df['opinion_h1n1_vacc_effective'], df['h1n1_vaccine'], normalize='index').plot(kind='bar', ax=axes[0,1], color=['salmon', 'lightblue'])
axes[0,1].set_title('H1N1 Vaccination Rate by Perceived Effectiveness(opinion)')
axes[0,1].set_xlabel('Perceived Effectiveness (1=Low, 5=High)')
axes[0,1].set_ylabel('Proportion')
axes[0,1].legend(['Not Vaccinated', 'Vaccinated'])

# 3. Age Group vs. Vaccination
pd.crosstab(df['age_group'], df['h1n1_vaccine'], normalize='index').sort_values(by=1, ascending=False).plot(kind='bar', ax=axes[1,0], color=['salmon', 'lightblue'])
axes[1,0].set_title('H1N1 Vaccination Rate by Age Group')
axes[1,0].set_xlabel('Age Group')
axes[1,0].set_ylabel('Proportion')
axes[1,0].legend(['Not Vaccinated', 'Vaccinated'])
axes[1,0].tick_params(axis='x', rotation=45)

# 4. Health Insurance vs. Vaccination
pd.crosstab(df['health_insurance'], df['h1n1_vaccine'], normalize='index').plot(kind='bar', ax=axes[1,1], color=['salmon', 'lightblue'])
axes[1,1].set_title('H1N1 Vaccination Rate by Health Insurance Status')
axes[1,1].set_xlabel('Has Health Insurance (0 = No, 1 = Yes)')
axes[1,1].set_ylabel('Proportion')
axes[1,1].legend(['Not Vaccinated', 'Vaccinated'])
axes[1,1].tick_params(axis='x', rotation=0)

plt.tight_layout()
plt.show()












